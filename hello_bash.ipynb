{
 "cells": [
  {
   "cell_type": "markdown",
   "id": "bccf8b2a-4189-43d5-8e38-dbb3b5c8d9d8",
   "metadata": {},
   "source": [
    "# Hello World in Bash\n",
    "This notebook demonstrates a Bash script using Jupyter's `%%bash` magic."
   ]
  },
  {
   "cell_type": "code",
   "execution_count": 1,
   "id": "482f8320-f620-404b-9e69-0609dccb3fdd",
   "metadata": {},
   "outputs": [
    {
     "name": "stdout",
     "output_type": "stream",
     "text": [
      "Hello, World from Bash!\n"
     ]
    }
   ],
   "source": [
    "%%bash\n",
    "echo \"Hello, World from Bash!\""
   ]
  }
 ],
 "metadata": {
  "kernelspec": {
   "display_name": "Python (7030_class_1)",
   "language": "python",
   "name": "7030_class_1"
  },
  "language_info": {
   "codemirror_mode": {
    "name": "ipython",
    "version": 3
   },
   "file_extension": ".py",
   "mimetype": "text/x-python",
   "name": "python",
   "nbconvert_exporter": "python",
   "pygments_lexer": "ipython3",
   "version": "3.10.18"
  }
 },
 "nbformat": 4,
 "nbformat_minor": 5
}
