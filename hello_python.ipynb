{
 "cells": [
  {
   "cell_type": "markdown",
   "id": "cf024e03-650a-4f20-87ea-1673025b4648",
   "metadata": {},
   "source": [
    "# Hello World in Python\n",
    "This notebook demonstrates a simple \"Hello, World!\" script in Python."
   ]
  },
  {
   "cell_type": "code",
   "execution_count": 4,
   "id": "563256ab-4c96-41ab-a7e3-89bbbfa1e6cc",
   "metadata": {},
   "outputs": [
    {
     "name": "stdout",
     "output_type": "stream",
     "text": [
      "Hello, World from Python!\n"
     ]
    }
   ],
   "source": [
    "print(\"Hello, World from Python!\")\n"
   ]
  }
 ],
 "metadata": {
  "kernelspec": {
   "display_name": "Python (7030_class_1)",
   "language": "python",
   "name": "7030_class_1"
  },
  "language_info": {
   "codemirror_mode": {
    "name": "ipython",
    "version": 3
   },
   "file_extension": ".py",
   "mimetype": "text/x-python",
   "name": "python",
   "nbconvert_exporter": "python",
   "pygments_lexer": "ipython3",
   "version": "3.10.18"
  }
 },
 "nbformat": 4,
 "nbformat_minor": 5
}
