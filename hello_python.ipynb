{
 "cells": [
  {
   "cell_type": "markdown",
   "id": "1f842ebf-414c-457e-8820-1291c3d1e70f",
   "metadata": {},
   "source": [
    "This notebook demonstrates a simple \"Hello, World!\" script in Python."
   ]
  },
  {
   "cell_type": "code",
   "execution_count": 1,
   "id": "533d844c-951b-4902-aa7a-71e46db01b43",
   "metadata": {},
   "outputs": [
    {
     "name": "stdout",
     "output_type": "stream",
     "text": [
      "Hello, World from Python!\n"
     ]
    }
   ],
   "source": [
    "print(\"Hello, World from Python!\")"
   ]
  },
  {
   "cell_type": "code",
   "execution_count": null,
   "id": "4f692781-d37a-4295-b430-b7e6a8e7868d",
   "metadata": {},
   "outputs": [],
   "source": []
  }
 ],
 "metadata": {
  "kernelspec": {
   "display_name": "Python (7030_class_1)",
   "language": "python",
   "name": "7030_class_1"
  },
  "language_info": {
   "codemirror_mode": {
    "name": "ipython",
    "version": 3
   },
   "file_extension": ".py",
   "mimetype": "text/x-python",
   "name": "python",
   "nbconvert_exporter": "python",
   "pygments_lexer": "ipython3",
   "version": "3.10.18"
  }
 },
 "nbformat": 4,
 "nbformat_minor": 5
}
