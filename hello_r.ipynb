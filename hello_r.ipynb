{
 "cells": [
  {
   "cell_type": "markdown",
   "id": "33d79342-ddf9-4b80-a98f-2f48cd9d1d9d",
   "metadata": {},
   "source": [
    "# Hello World in R\n",
    "This notebook demonstrates a simple \"Hello, World!\" script in R."
   ]
  },
  {
   "cell_type": "code",
   "execution_count": 1,
   "id": "81e3bf22-3e00-4f28-bcda-a6a11eb44003",
   "metadata": {},
   "outputs": [
    {
     "name": "stdout",
     "output_type": "stream",
     "text": [
      "Hello, World from R!\n"
     ]
    }
   ],
   "source": [
    "cat(\"Hello, World from R!\\n\")"
   ]
  }
 ],
 "metadata": {
  "kernelspec": {
   "display_name": "R (7030_class_1)",
   "language": "R",
   "name": "ir_7030_class_1"
  },
  "language_info": {
   "codemirror_mode": "r",
   "file_extension": ".r",
   "mimetype": "text/x-r-source",
   "name": "R",
   "pygments_lexer": "r",
   "version": "4.4.3"
  }
 },
 "nbformat": 4,
 "nbformat_minor": 5
}
